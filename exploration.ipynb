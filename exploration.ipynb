{
 "cells": [
  {
   "cell_type": "markdown",
   "metadata": {},
   "source": [
    "# rowsdower exploration\n",
    "\n",
    "The goal here is to work out the logic for a simple too that adds 1+ new rows to a standalone table in ArcGIS Online"
   ]
  },
  {
   "cell_type": "code",
   "execution_count": null,
   "metadata": {},
   "outputs": [],
   "source": [
    "from getpass import getpass\n",
    "from pprint import pprint\n",
    "from IPython.display import display\n",
    "\n",
    "import os\n",
    "from datetime import datetime\n",
    "import csv\n",
    "\n",
    "from arcgis.gis import GIS"
   ]
  },
  {
   "cell_type": "markdown",
   "metadata": {},
   "source": [
    "## Login to AGOL"
   ]
  },
  {
   "cell_type": "code",
   "execution_count": null,
   "metadata": {},
   "outputs": [],
   "source": [
    "portal = 'https://ral.maps.arcgis.com'\n",
    "user = 'RaleighPRCR'\n",
    "password = getpass()\n",
    "gis = GIS(portal, user, password)\n",
    "print(f'Logged in as {gis.properties.user.username}.')"
   ]
  },
  {
   "cell_type": "markdown",
   "metadata": {},
   "source": [
    "# Gather item to update information"
   ]
  },
  {
   "cell_type": "code",
   "execution_count": null,
   "metadata": {},
   "outputs": [],
   "source": [
    "item_id = 'da7ab59d8303415b91d520f417d83537'\n",
    "table_name = 'table_1'\n",
    "template_field = 'NAME'\n",
    "new_row_count = 2"
   ]
  },
  {
   "cell_type": "markdown",
   "metadata": {},
   "source": [
    "## Get table"
   ]
  },
  {
   "cell_type": "code",
   "execution_count": null,
   "metadata": {},
   "outputs": [],
   "source": [
    "table_search = gis.content.get(item_id)\n",
    "tables = table_search.tables\n",
    "\n",
    "for table in tables:\n",
    "    if table.properties['name'] == table_name:\n",
    "        target_table = table\n",
    "        \n",
    "print(target_table)"
   ]
  },
  {
   "cell_type": "markdown",
   "metadata": {},
   "source": [
    "## Create a temporary CSV"
   ]
  },
  {
   "cell_type": "code",
   "execution_count": null,
   "metadata": {},
   "outputs": [],
   "source": [
    "now = datetime.now().strftime('%Y%m%d%H%M%S')\n",
    "temp_csv_name = f'temp_{now}.csv'\n",
    "temp_csv_path = os.path.join(os.getcwd(), temp_csv_name)\n",
    "\n",
    "header = [template_field]\n",
    "csvdata = [['New Row'] for n in range(new_row_count)]\n",
    "with open(temp_csv_path, 'w', newline = '') as temp_csv:\n",
    "    writer = csv.writer(temp_csv, quoting=csv.QUOTE_NONNUMERIC)\n",
    "    writer.writerow(i for i in header)\n",
    "    writer.writerows(csvdata)"
   ]
  },
  {
   "cell_type": "code",
   "execution_count": null,
   "metadata": {},
   "outputs": [],
   "source": [
    "temp_item_properties = {\"title\":\"new_table_row_temp\",\n",
    "                   \"type\":\"CSV\",\n",
    "                   \"tags\":\"temp\",\n",
    "                   \"snippet\":\"Temporary CSV item for adding new rows to a standalone table\",\n",
    "                   \"description\":\"Temporary CSV item for adding new rows to a standalone table\"}\n",
    "temp_item = gis.content.add(item_properties = temp_item_properties, data = temp_csv_path)"
   ]
  },
  {
   "cell_type": "code",
   "execution_count": null,
   "metadata": {},
   "outputs": [],
   "source": [
    "temp_item_source_info = gis.content.analyze(item = temp_item.id, file_type = 'csv', location_type = 'none')\n",
    "target_table.append(item_id = temp_item.id,\n",
    "               upload_format = 'csv',\n",
    "               source_info = temp_item_source_info['publishParameters'],\n",
    "               update_geometry = False,\n",
    "               upsert = False,\n",
    "               append_fields = [template_field])"
   ]
  },
  {
   "cell_type": "code",
   "execution_count": null,
   "metadata": {},
   "outputs": [],
   "source": [
    "temp_item = gis.content.get(temp_item.id)\n",
    "temp_item.delete()\n",
    "\n",
    "os.remove(temp_csv_path)"
   ]
  }
 ],
 "metadata": {
  "kernelspec": {
   "display_name": "Python 3",
   "language": "python",
   "name": "python3"
  },
  "language_info": {
   "codemirror_mode": {
    "name": "ipython",
    "version": 3
   },
   "file_extension": ".py",
   "mimetype": "text/x-python",
   "name": "python",
   "nbconvert_exporter": "python",
   "pygments_lexer": "ipython3",
   "version": "3.7.3"
  }
 },
 "nbformat": 4,
 "nbformat_minor": 4
}
